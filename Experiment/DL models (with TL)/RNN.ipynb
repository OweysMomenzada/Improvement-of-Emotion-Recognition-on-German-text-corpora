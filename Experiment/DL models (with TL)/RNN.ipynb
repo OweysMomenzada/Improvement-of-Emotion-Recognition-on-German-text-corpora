{
 "cells": [
  {
   "cell_type": "markdown",
   "metadata": {
    "id": "NME2lbDVTW05"
   },
   "source": [
    "### Recurrent Neural Network model\n",
    "This notebook focuses on training and testing the Recurrent Neural Network model that were proposed in this paper. The model was implemented using TensorFlows.\n",
    "\n",
    "Please keep in mind that these notebooks are primarily used for conducting experiments, live coding, and implementing and evaluating the approaches presented in the paper. As a result, the code in this notebook may not strictly adhere to best practice coding standards."
   ]
  },
  {
   "cell_type": "code",
   "execution_count": 1,
   "metadata": {},
   "outputs": [],
   "source": [
    "# only execute once\n",
    "# ONLY IF USED ON LOCAL VIEW\n",
    "import os\n",
    "\n",
    "# Getting the parent directory\n",
    "os.chdir(\"..\")\n",
    "os.chdir(\"..\")"
   ]
  },
  {
   "cell_type": "code",
   "execution_count": 2,
   "metadata": {
    "colab": {
     "base_uri": "https://localhost:8080/"
    },
    "executionInfo": {
     "elapsed": 20077,
     "status": "ok",
     "timestamp": 1687551376725,
     "user": {
      "displayName": "Ovice Moe",
      "userId": "10112058264607559430"
     },
     "user_tz": -120
    },
    "id": "3DQE-dVDTW08",
    "outputId": "b7acbb16-7b43-4733-d437-1686587688e2"
   },
   "outputs": [],
   "source": [
    "import pandas as pd\n",
    "import numpy as np\n",
    "import tensorflow as tf\n",
    "\n",
    "from tensorflow.keras.preprocessing.text import Tokenizer\n",
    "from tensorflow.keras.preprocessing.sequence import pad_sequences\n",
    "\n",
    "\n",
    "def import_test_train(local):\n",
    "  \"\"\"\n",
    "  This imports the given train and testset locally or not and returns it.\n",
    "\n",
    "  :param local: If set to true, it will return the trainset from a local view. Otherwise it will open drive mount and attempts to connect to your\n",
    "  drive folders.\n",
    "  \"\"\"\n",
    "\n",
    "  assert type(local) == bool, f\"Type is not valid. Expected boolean, recieved: {type(local)}\"\n",
    "\n",
    "  if local:\n",
    "    from google.colab import drive\n",
    "    drive.mount('/content/gdrive')\n",
    "\n",
    "    df_test = pd.read_csv('/content/gdrive/MyDrive/Experiment/testset_DE_Trigger.csv')\n",
    "    df_train = pd.read_csv('/content/gdrive/MyDrive/Experiment/trainset_DE_Trigger.csv')\n",
    "\n",
    "    return df_test, df_train\n",
    "\n",
    "  else:\n",
    "    df_test = pd.read_csv('./Experiment/testset_DE_Trigger.csv')\n",
    "    df_train = pd.read_csv('./Experiment/trainset_DE_Trigger.csv')\n",
    "\n",
    "    return df_test, df_train\n",
    "\n",
    "# importing test and trainset\n",
    "df_test, df_train = import_test_train(False)\n",
    "\n",
    "# If you want to use it locally, make sure to execute the notebooks from the root directory of this project and uncomment the following line:\n",
    "# df_test, df_train = import_test_train(False)"
   ]
  },
  {
   "cell_type": "markdown",
   "metadata": {
    "id": "raf9SQkfTW1A"
   },
   "source": [
    "## Define Labels as numbers"
   ]
  },
  {
   "cell_type": "code",
   "execution_count": 3,
   "metadata": {
    "colab": {
     "base_uri": "https://localhost:8080/"
    },
    "executionInfo": {
     "elapsed": 1422,
     "status": "ok",
     "timestamp": 1687551466499,
     "user": {
      "displayName": "Ovice Moe",
      "userId": "10112058264607559430"
     },
     "user_tz": -120
    },
    "id": "7hf4nuSfTW1A",
    "outputId": "47032c96-5d7f-43e0-cbce-9dedc1447210"
   },
   "outputs": [
    {
     "name": "stderr",
     "output_type": "stream",
     "text": [
      "/var/folders/z6/prc43fyn1z7gdx2scnq938tr0000gn/T/ipykernel_46794/2819533313.py:8: FutureWarning: The frame.append method is deprecated and will be removed from pandas in a future version. Use pandas.concat instead.\n",
      "  tokenizer.fit_on_texts(df_test.append(df_train)[\"content\"].values)\n"
     ]
    },
    {
     "name": "stdout",
     "output_type": "stream",
     "text": [
      "Found 44770 unique tokens.\n"
     ]
    }
   ],
   "source": [
    "# Defining hyperparameters\n",
    "MAX_NB_WORDS = 39000\n",
    "MAX_SEQUENCE_LENGTH = 150\n",
    "HIDDEN_DIM = 200\n",
    "\n",
    "# define tokenizer approach\n",
    "tokenizer = Tokenizer(num_words=MAX_NB_WORDS, lower=True)\n",
    "tokenizer.fit_on_texts(df_test.append(df_train)[\"content\"].values)\n",
    "word_index = tokenizer.word_index\n",
    "print('Found %s unique tokens.' % len(word_index))"
   ]
  },
  {
   "cell_type": "code",
   "execution_count": 4,
   "metadata": {
    "id": "xyAiy3KgPb-V"
   },
   "outputs": [],
   "source": [
    "# This sets the appropriate format for the tensorflow training\n",
    "X_train = tokenizer.texts_to_sequences(df_train['content'].values)\n",
    "X_train = pad_sequences(X_train, maxlen=MAX_SEQUENCE_LENGTH)\n",
    "\n",
    "Y_train = pd.get_dummies(df_train['label']).values\n",
    "\n",
    "X_test = tokenizer.texts_to_sequences(df_test['content'].values)\n",
    "X_test = pad_sequences(X_test, maxlen=MAX_SEQUENCE_LENGTH)\n",
    "\n",
    "Y_test = pd.get_dummies(df_test['label']).values"
   ]
  },
  {
   "cell_type": "markdown",
   "metadata": {
    "id": "bynSQXtrTW1E"
   },
   "source": [
    "## Define model and saving path"
   ]
  },
  {
   "cell_type": "code",
   "execution_count": 5,
   "metadata": {
    "id": "z9UhJ-uLTW1F"
   },
   "outputs": [],
   "source": [
    "from tensorflow.keras.models import Sequential\n",
    "from tensorflow.keras.layers import Dense, Embedding, SimpleRNN, MaxPool1D, BatchNormalization, Dropout\n",
    "from tensorflow.keras import layers\n",
    "\n",
    "# the corresponding model based on different layers.\n",
    "def emotion_model():\n",
    "    model = Sequential()\n",
    "    model.add(Embedding(MAX_NB_WORDS, HIDDEN_DIM, input_length=X_train.shape[1]))\n",
    "    model.add(SimpleRNN(100, dropout=0.2))\n",
    "    model.add(BatchNormalization())\n",
    "    model.add(Dense(256,activation='relu'))\n",
    "    model.add(Dropout(0.2))\n",
    "    model.add(Dense(5, activation='softmax'))\n",
    "\n",
    "    model.compile(loss=tf.keras.losses.CategoricalCrossentropy(),\n",
    "              optimizer='adam',metrics=[tf.keras.metrics.AUC()])\n",
    "\n",
    "    return model"
   ]
  },
  {
   "cell_type": "markdown",
   "metadata": {
    "id": "2xGLFNZJTW1F"
   },
   "source": [
    "## Train model"
   ]
  },
  {
   "cell_type": "code",
   "execution_count": null,
   "metadata": {
    "id": "7sTVyvR6TW1G",
    "scrolled": false
   },
   "outputs": [],
   "source": [
    "from tensorflow.keras.callbacks import EarlyStopping\n",
    "\n",
    "# Set the early stopping criteria\n",
    "early_stopping = EarlyStopping(monitor='val_loss', patience=2)\n",
    "\n",
    "# Create the model\n",
    "model = emotion_model()\n",
    "\n",
    "epochs = 100\n",
    "batch_size = 64\n",
    "\n",
    "# Fit the model with early stopping\n",
    "model.fit(\n",
    "    X_train, Y_train,\n",
    "    epochs=epochs,\n",
    "    batch_size=batch_size,\n",
    "    validation_split=0.1,\n",
    "    callbacks=[early_stopping]\n",
    ")"
   ]
  },
  {
   "cell_type": "markdown",
   "metadata": {
    "id": "VuhvA23_TW1G"
   },
   "source": [
    "### Evaluation"
   ]
  },
  {
   "cell_type": "code",
   "execution_count": null,
   "metadata": {
    "id": "3hQLqpxJTW1H"
   },
   "outputs": [],
   "source": [
    "from sklearn.metrics import classification_report\n",
    "\n",
    "y_labels = [list(i).index(1) for i in Y_test]\n",
    "Y_pred = np.argmax(model.predict(X_test),axis=1)\n",
    "\n",
    "print(classification_report(y_labels, Y_pred))"
   ]
  }
 ],
 "metadata": {
  "colab": {
   "provenance": []
  },
  "kernelspec": {
   "display_name": "Python 3 (ipykernel)",
   "language": "python",
   "name": "python3"
  },
  "language_info": {
   "codemirror_mode": {
    "name": "ipython",
    "version": 3
   },
   "file_extension": ".py",
   "mimetype": "text/x-python",
   "name": "python",
   "nbconvert_exporter": "python",
   "pygments_lexer": "ipython3",
   "version": "3.10.9"
  }
 },
 "nbformat": 4,
 "nbformat_minor": 1
}
