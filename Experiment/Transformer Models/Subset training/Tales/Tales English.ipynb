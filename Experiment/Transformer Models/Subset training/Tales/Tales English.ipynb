{
 "cells": [
  {
   "attachments": {},
   "cell_type": "markdown",
   "metadata": {
    "id": "x1zty4niRcuV"
   },
   "source": [
    "### English BERT model for Tales \n",
    "\n",
    "This notebook focuses on training and testing the BERT model that were proposed in this paper. The model was implemented using TensorFlows and HuggingFace.\n",
    "\n",
    "Please keep in mind that these notebooks are primarily used for conducting experiments, live coding, and implementing and evaluating the approaches presented in the thesis. As a result, the code in this notebook may not strictly adhere to best practice coding standards.\n",
    "\n",
    "\n",
    "*Here, training with GPU is required. Thus, either use Google Colab or setup you GPU properly.*"
   ]
  },
  {
   "cell_type": "code",
   "execution_count": null,
   "metadata": {
    "colab": {
     "base_uri": "https://localhost:8080/"
    },
    "executionInfo": {
     "elapsed": 10924,
     "status": "ok",
     "timestamp": 1666256513141,
     "user": {
      "displayName": "Ovice Moe",
      "userId": "10112058264607559430"
     },
     "user_tz": -120
    },
    "id": "foN57SLmop78",
    "outputId": "c82e50d6-bdda-487b-b05c-8cad632fa906"
   },
   "outputs": [
    {
     "name": "stdout",
     "output_type": "stream",
     "text": [
      "Looking in indexes: https://pypi.org/simple, https://us-python.pkg.dev/colab-wheels/public/simple/\n",
      "Collecting transformers\n",
      "  Downloading transformers-4.23.1-py3-none-any.whl (5.3 MB)\n",
      "\u001b[K     |████████████████████████████████| 5.3 MB 30.5 MB/s \n",
      "\u001b[?25hRequirement already satisfied: importlib-metadata in /usr/local/lib/python3.7/dist-packages (from transformers) (4.13.0)\n",
      "Requirement already satisfied: tqdm>=4.27 in /usr/local/lib/python3.7/dist-packages (from transformers) (4.64.1)\n",
      "Collecting huggingface-hub<1.0,>=0.10.0\n",
      "  Downloading huggingface_hub-0.10.1-py3-none-any.whl (163 kB)\n",
      "\u001b[K     |████████████████████████████████| 163 kB 68.5 MB/s \n",
      "\u001b[?25hRequirement already satisfied: packaging>=20.0 in /usr/local/lib/python3.7/dist-packages (from transformers) (21.3)\n",
      "Collecting tokenizers!=0.11.3,<0.14,>=0.11.1\n",
      "  Downloading tokenizers-0.13.1-cp37-cp37m-manylinux_2_17_x86_64.manylinux2014_x86_64.whl (7.6 MB)\n",
      "\u001b[K     |████████████████████████████████| 7.6 MB 50.2 MB/s \n",
      "\u001b[?25hRequirement already satisfied: regex!=2019.12.17 in /usr/local/lib/python3.7/dist-packages (from transformers) (2022.6.2)\n",
      "Requirement already satisfied: requests in /usr/local/lib/python3.7/dist-packages (from transformers) (2.23.0)\n",
      "Requirement already satisfied: filelock in /usr/local/lib/python3.7/dist-packages (from transformers) (3.8.0)\n",
      "Requirement already satisfied: pyyaml>=5.1 in /usr/local/lib/python3.7/dist-packages (from transformers) (6.0)\n",
      "Requirement already satisfied: numpy>=1.17 in /usr/local/lib/python3.7/dist-packages (from transformers) (1.21.6)\n",
      "Requirement already satisfied: typing-extensions>=3.7.4.3 in /usr/local/lib/python3.7/dist-packages (from huggingface-hub<1.0,>=0.10.0->transformers) (4.1.1)\n",
      "Requirement already satisfied: pyparsing!=3.0.5,>=2.0.2 in /usr/local/lib/python3.7/dist-packages (from packaging>=20.0->transformers) (3.0.9)\n",
      "Requirement already satisfied: zipp>=0.5 in /usr/local/lib/python3.7/dist-packages (from importlib-metadata->transformers) (3.9.0)\n",
      "Requirement already satisfied: idna<3,>=2.5 in /usr/local/lib/python3.7/dist-packages (from requests->transformers) (2.10)\n",
      "Requirement already satisfied: certifi>=2017.4.17 in /usr/local/lib/python3.7/dist-packages (from requests->transformers) (2022.9.24)\n",
      "Requirement already satisfied: chardet<4,>=3.0.2 in /usr/local/lib/python3.7/dist-packages (from requests->transformers) (3.0.4)\n",
      "Requirement already satisfied: urllib3!=1.25.0,!=1.25.1,<1.26,>=1.21.1 in /usr/local/lib/python3.7/dist-packages (from requests->transformers) (1.24.3)\n",
      "Installing collected packages: tokenizers, huggingface-hub, transformers\n",
      "Successfully installed huggingface-hub-0.10.1 tokenizers-0.13.1 transformers-4.23.1\n"
     ]
    }
   ],
   "source": [
    "!pip install transformers"
   ]
  },
  {
   "cell_type": "code",
   "execution_count": null,
   "metadata": {
    "id": "3DQE-dVDTW08",
    "scrolled": true
   },
   "outputs": [],
   "source": [
    "import pandas as pd\n",
    "import numpy as np\n",
    "import tensorflow as tf\n",
    "#import re\n",
    "\n",
    "#from nltk.corpus import stopwords\n",
    "from sklearn.model_selection import train_test_split\n",
    "from tensorflow.keras.preprocessing.text import Tokenizer\n",
    "from tensorflow.keras.preprocessing.sequence import pad_sequences\n",
    "from sklearn.utils import shuffle\n",
    "from sklearn.preprocessing import LabelEncoder\n",
    "\n",
    "df = pd.read_csv('tales.csv')"
   ]
  },
  {
   "cell_type": "code",
   "execution_count": null,
   "metadata": {
    "id": "B8NaqNJioLUY"
   },
   "outputs": [],
   "source": [
    "df = df[~df['label'].str.contains('surprise')]"
   ]
  },
  {
   "cell_type": "code",
   "execution_count": null,
   "metadata": {
    "id": "GtkFbeuqrGcL"
   },
   "outputs": [],
   "source": [
    "lb_make = LabelEncoder()\n",
    "df[\"label_id\"] = lb_make.fit_transform(df[\"label\"])"
   ]
  },
  {
   "cell_type": "code",
   "execution_count": null,
   "metadata": {
    "id": "nDpH6uoap1B9"
   },
   "outputs": [],
   "source": [
    "from sklearn.model_selection  import train_test_split\n",
    "\n",
    "# train test splitting\n",
    "df_train, df_test = train_test_split(df, test_size=0.20, random_state=42)\n",
    "\n",
    "# start index at 0\n",
    "df_train.reset_index(inplace=True)\n",
    "df_test.reset_index(inplace=True)"
   ]
  },
  {
   "cell_type": "code",
   "execution_count": null,
   "metadata": {
    "id": "xJZhaaVx0PpO"
   },
   "outputs": [],
   "source": [
    "# get label encoding of triggerset\n",
    "labels = df.drop_duplicates(subset=['label'])[['label','label_id']]"
   ]
  },
  {
   "cell_type": "code",
   "execution_count": null,
   "metadata": {
    "colab": {
     "base_uri": "https://localhost:8080/"
    },
    "executionInfo": {
     "elapsed": 6,
     "status": "ok",
     "timestamp": 1666256583978,
     "user": {
      "displayName": "Ovice Moe",
      "userId": "10112058264607559430"
     },
     "user_tz": -120
    },
    "id": "1KoecKx02d84",
    "outputId": "632ee844-87ef-4fd7-bd43-cb25080b93ed"
   },
   "outputs": [
    {
     "data": {
      "text/plain": [
       "joy        355\n",
       "sadness    218\n",
       "fear       127\n",
       "Name: label, dtype: int64"
      ]
     },
     "execution_count": 9,
     "metadata": {},
     "output_type": "execute_result"
    }
   ],
   "source": [
    "df_train.label.value_counts()"
   ]
  },
  {
   "cell_type": "code",
   "execution_count": null,
   "metadata": {
    "id": "NMmjaasPaYoQ"
   },
   "outputs": [],
   "source": [
    "# # drop possible duplicates caused by appending triggerset\n",
    "df_train = df_train.drop_duplicates(subset=['content'])\n",
    "df_test = df_test.drop_duplicates(subset=['content'])\n",
    "\n",
    "# # reset index\n",
    "df_test.reset_index(drop=True, inplace=True)\n",
    "df_train.reset_index(drop=True, inplace=True)"
   ]
  },
  {
   "cell_type": "code",
   "execution_count": null,
   "metadata": {
    "colab": {
     "base_uri": "https://localhost:8080/"
    },
    "executionInfo": {
     "elapsed": 5,
     "status": "ok",
     "timestamp": 1666256583978,
     "user": {
      "displayName": "Ovice Moe",
      "userId": "10112058264607559430"
     },
     "user_tz": -120
    },
    "id": "v_beWBZdJX5Q",
    "outputId": "fc8a785a-2740-4b1a-f155-c8ada44f5103"
   },
   "outputs": [
    {
     "data": {
      "text/plain": [
       "joy        90\n",
       "sadness    46\n",
       "fear       39\n",
       "Name: label, dtype: int64"
      ]
     },
     "execution_count": 11,
     "metadata": {},
     "output_type": "execute_result"
    }
   ],
   "source": [
    "df_test.label.value_counts()"
   ]
  },
  {
   "cell_type": "code",
   "execution_count": null,
   "metadata": {
    "colab": {
     "base_uri": "https://localhost:8080/"
    },
    "executionInfo": {
     "elapsed": 7758,
     "status": "ok",
     "timestamp": 1666256650365,
     "user": {
      "displayName": "Ovice Moe",
      "userId": "10112058264607559430"
     },
     "user_tz": -120
    },
    "id": "CMyMp5Dj82wu",
    "outputId": "85a5e091-5a67-49d7-cbf1-afb31b01b941"
   },
   "outputs": [
    {
     "name": "stderr",
     "output_type": "stream",
     "text": [
      "Some layers from the model checkpoint at bert-base-uncased were not used when initializing TFBertModel: ['mlm___cls', 'nsp___cls']\n",
      "- This IS expected if you are initializing TFBertModel from the checkpoint of a model trained on another task or with another architecture (e.g. initializing a BertForSequenceClassification model from a BertForPreTraining model).\n",
      "- This IS NOT expected if you are initializing TFBertModel from the checkpoint of a model that you expect to be exactly identical (initializing a BertForSequenceClassification model from a BertForSequenceClassification model).\n",
      "All the layers of TFBertModel were initialized from the model checkpoint at bert-base-uncased.\n",
      "If your task is similar to the task the model of the checkpoint was trained on, you can already use TFBertModel for predictions without further training.\n"
     ]
    }
   ],
   "source": [
    "from transformers import AutoTokenizer, TFAutoModel\n",
    "\n",
    "tokenizer = AutoTokenizer.from_pretrained(\"bert-base-uncased\")\n",
    "bert = TFAutoModel.from_pretrained(\"bert-base-uncased\")"
   ]
  },
  {
   "cell_type": "code",
   "execution_count": null,
   "metadata": {
    "id": "G6YY2Qoeqcbf"
   },
   "outputs": [],
   "source": [
    "# max length of berttokenizer  is 512\n",
    "max_length=100\n",
    "\n",
    "#creating mask for tokens\n",
    "Xids_train=np.zeros((df_train.shape[0],max_length))\n",
    "Xmask_train=np.zeros((df_train.shape[0],max_length))\n",
    "y_train=np.zeros((df_train.shape[0],1))\n",
    "\n",
    "#creating mask for tokens\n",
    "Xids_test=np.zeros((df_test.shape[0],max_length))\n",
    "Xmask_test=np.zeros((df_test.shape[0],max_length))"
   ]
  },
  {
   "cell_type": "code",
   "execution_count": null,
   "metadata": {
    "id": "7hf4nuSfTW1A"
   },
   "outputs": [],
   "source": [
    "from numpy import array\n",
    "from numpy import argmax\n",
    "from tensorflow.keras.utils import to_categorical\n",
    "\n",
    "for i,sequence in enumerate(df_train['content']):\n",
    "    tokens=tokenizer.encode_plus(sequence,max_length=max_length,padding='max_length',add_special_tokens=True,\n",
    "                           truncation=True,return_token_type_ids=False,return_attention_mask=True,\n",
    "                           return_tensors='tf')\n",
    "\n",
    "    Xids_train[i,:] = tokens['input_ids']\n",
    "    Xmask_train[i,:] = tokens['attention_mask']\n",
    "    y_train[i,0] = df_train.loc[i,'label_id']\n",
    "\n",
    "y_train = to_categorical(y_train)\n",
    "\n",
    "for i,sequence in enumerate(df_test['content']):\n",
    "    tokens=tokenizer.encode_plus(sequence,max_length=max_length,padding='max_length',add_special_tokens=True,\n",
    "                           truncation=True,return_token_type_ids=False,return_attention_mask=True,\n",
    "                           return_tensors='tf')\n",
    "\n",
    "    Xids_test[i,:] = tokens['input_ids']\n",
    "    Xmask_test[i,:] = tokens['attention_mask']"
   ]
  },
  {
   "cell_type": "code",
   "execution_count": null,
   "metadata": {
    "id": "Di0JsOixTW1C"
   },
   "outputs": [],
   "source": [
    "dataset=tf.data.Dataset.from_tensor_slices((Xids_train,Xmask_train,y_train))\n",
    "\n",
    "def map_func(input_ids,mask,labels):\n",
    "    return {'input_ids':input_ids,'attention_mask':mask},labels\n",
    "\n",
    "dataset=dataset.map(map_func)\n",
    "dataset=dataset.shuffle(100000).batch(64).prefetch(1000)\n",
    "\n",
    "DS_size=len(list(dataset))\n",
    "\n",
    "train=dataset.take(round(DS_size*0.90))\n",
    "val=dataset.skip(round(DS_size*0.90))"
   ]
  },
  {
   "cell_type": "code",
   "execution_count": null,
   "metadata": {
    "id": "hLJ3rMrtTW1C"
   },
   "outputs": [],
   "source": [
    "dataset_test=tf.data.Dataset.from_tensor_slices((Xids_test,Xmask_test))\n",
    "\n",
    "def map_func(input_ids,mask):\n",
    "    return {'input_ids':input_ids,'attention_mask':mask}\n",
    "\n",
    "dataset_test=dataset_test.map(map_func)\n",
    "# batching it to or the predictions will be multiplied by the shape\n",
    "dataset_test=dataset_test.batch(64).prefetch(1000)"
   ]
  },
  {
   "cell_type": "code",
   "execution_count": null,
   "metadata": {
    "id": "uNtnoR0XTW1D"
   },
   "outputs": [],
   "source": [
    "import tensorflow as tf\n",
    "\n",
    "def emotion_model():\n",
    "  input_ids=tf.keras.layers.Input(shape=(max_length,),name='input_ids',dtype='int32')\n",
    "  input_mask=tf.keras.layers.Input(shape=(max_length,),name='attention_mask',dtype='int32')\n",
    "\n",
    "  embedding=bert(input_ids,attention_mask=input_mask)[0]\n",
    "  x=tf.keras.layers.GlobalMaxPool1D()(embedding)\n",
    "  x=tf.keras.layers.BatchNormalization()(x)\n",
    "  x=tf.keras.layers.Dense(256,activation='relu')(x)\n",
    "  x=tf.keras.layers.Dropout(0.2)(x)\n",
    "  output=tf.keras.layers.Dense(3,activation='softmax')(x)\n",
    "\n",
    "  model=tf.keras.Model(inputs=[input_ids,input_mask],outputs=output)\n",
    "\n",
    "  model.layers[2].trainable=False\n",
    "\n",
    "  model.compile(loss=tf.keras.losses.CategoricalCrossentropy(),\n",
    "              optimizer='adam',metrics=[tf.keras.metrics.AUC()])\n",
    "\n",
    "  return model"
   ]
  },
  {
   "cell_type": "markdown",
   "metadata": {
    "id": "8qEIZ3EdTW1E"
   },
   "source": [
    "## Define train and test"
   ]
  },
  {
   "cell_type": "code",
   "execution_count": null,
   "metadata": {
    "colab": {
     "base_uri": "https://localhost:8080/"
    },
    "executionInfo": {
     "elapsed": 4050,
     "status": "ok",
     "timestamp": 1666256674065,
     "user": {
      "displayName": "Ovice Moe",
      "userId": "10112058264607559430"
     },
     "user_tz": -120
    },
    "id": "Co9Rm5QvTW1E",
    "outputId": "fb6c2b68-4d45-4469-c147-39e35ccee3ba"
   },
   "outputs": [
    {
     "name": "stdout",
     "output_type": "stream",
     "text": [
      "Model: \"model_1\"\n",
      "__________________________________________________________________________________________________\n",
      " Layer (type)                   Output Shape         Param #     Connected to                     \n",
      "==================================================================================================\n",
      " input_ids (InputLayer)         [(None, 100)]        0           []                               \n",
      "                                                                                                  \n",
      " attention_mask (InputLayer)    [(None, 100)]        0           []                               \n",
      "                                                                                                  \n",
      " tf_bert_model_1 (TFBertModel)  TFBaseModelOutputWi  109482240   ['input_ids[0][0]',              \n",
      "                                thPoolingAndCrossAt               'attention_mask[0][0]']         \n",
      "                                tentions(last_hidde                                               \n",
      "                                n_state=(None, 100,                                               \n",
      "                                 768),                                                            \n",
      "                                 pooler_output=(Non                                               \n",
      "                                e, 768),                                                          \n",
      "                                 past_key_values=No                                               \n",
      "                                ne, hidden_states=N                                               \n",
      "                                one, attentions=Non                                               \n",
      "                                e, cross_attentions                                               \n",
      "                                =None)                                                            \n",
      "                                                                                                  \n",
      " global_max_pooling1d_1 (Global  (None, 768)         0           ['tf_bert_model_1[1][0]']        \n",
      " MaxPooling1D)                                                                                    \n",
      "                                                                                                  \n",
      " batch_normalization_1 (BatchNo  (None, 768)         3072        ['global_max_pooling1d_1[0][0]'] \n",
      " rmalization)                                                                                     \n",
      "                                                                                                  \n",
      " dense_2 (Dense)                (None, 256)          196864      ['batch_normalization_1[0][0]']  \n",
      "                                                                                                  \n",
      " dropout_38 (Dropout)           (None, 256)          0           ['dense_2[0][0]']                \n",
      "                                                                                                  \n",
      " dense_3 (Dense)                (None, 3)            771         ['dropout_38[0][0]']             \n",
      "                                                                                                  \n",
      "==================================================================================================\n",
      "Total params: 109,682,947\n",
      "Trainable params: 199,171\n",
      "Non-trainable params: 109,483,776\n",
      "__________________________________________________________________________________________________\n"
     ]
    }
   ],
   "source": [
    "model = emotion_model()\n",
    "model.summary()"
   ]
  },
  {
   "cell_type": "markdown",
   "metadata": {
    "id": "bynSQXtrTW1E"
   },
   "source": [
    "## Define model and saving path"
   ]
  },
  {
   "cell_type": "code",
   "execution_count": null,
   "metadata": {
    "id": "kstQ6CcjfptV"
   },
   "outputs": [],
   "source": [
    "from tensorflow.keras.callbacks import EarlyStopping\n",
    "\n",
    "es = EarlyStopping(\n",
    "    monitor='val_auc',\n",
    "    patience=2,\n",
    "    min_delta=0.0010,\n",
    "    mode='max'\n",
    ")"
   ]
  },
  {
   "cell_type": "code",
   "execution_count": null,
   "metadata": {
    "id": "_5LJ2mckGsn-"
   },
   "outputs": [],
   "source": [
    "model.fit(train,\n",
    "          validation_data=val,\n",
    "          epochs=30,\n",
    "          callbacks=[es])"
   ]
  },
  {
   "cell_type": "code",
   "execution_count": null,
   "metadata": {
    "id": "cWkWdhDeRkCG"
   },
   "outputs": [],
   "source": [
    "y_pred=model.predict(dataset_test)"
   ]
  },
  {
   "cell_type": "code",
   "execution_count": null,
   "metadata": {
    "id": "WfDkipRJ2ZTM"
   },
   "outputs": [],
   "source": [
    "y_pred_new = np.argmax(y_pred,axis=1)\n",
    "y_true = df_test['label_id'].values"
   ]
  },
  {
   "cell_type": "code",
   "execution_count": null,
   "metadata": {
    "id": "RvRapDMMRlct"
   },
   "outputs": [],
   "source": [
    "from sklearn.metrics import accuracy_score\n",
    "accuracy_score(y_true, y_pred_new)"
   ]
  },
  {
   "cell_type": "code",
   "execution_count": null,
   "metadata": {
    "id": "Nj9SPD76RmZS"
   },
   "outputs": [],
   "source": [
    "from sklearn import metrics\n",
    "print(metrics.classification_report(y_true, y_pred_new))"
   ]
  }
 ],
 "metadata": {
  "accelerator": "GPU",
  "colab": {
   "provenance": []
  },
  "kernelspec": {
   "display_name": "Python 3 (ipykernel)",
   "language": "python",
   "name": "python3"
  },
  "language_info": {
   "codemirror_mode": {
    "name": "ipython",
    "version": 3
   },
   "file_extension": ".py",
   "mimetype": "text/x-python",
   "name": "python",
   "nbconvert_exporter": "python",
   "pygments_lexer": "ipython3",
   "version": "3.9.7"
  }
 },
 "nbformat": 4,
 "nbformat_minor": 0
}
